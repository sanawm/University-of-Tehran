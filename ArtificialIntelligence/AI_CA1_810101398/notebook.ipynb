{
 "cells": [
  {
   "cell_type": "code",
   "execution_count": 8,
   "metadata": {},
   "outputs": [],
   "source": [
    "from game import Game\n",
    "import time\n",
    "import os\n",
    "import re"
   ]
  },
  {
   "cell_type": "markdown",
   "metadata": {},
   "source": [
    "## Load maps"
   ]
  },
  {
   "cell_type": "code",
   "execution_count": 9,
   "metadata": {},
   "outputs": [],
   "source": [
    "def extract_map_files(directory):\n",
    "    pattern = re.compile(r'^map(\\d+)\\.txt$')\n",
    "    map_file_indices = []\n",
    "\n",
    "    for file_name in os.listdir(directory):\n",
    "        match = pattern.match(file_name)\n",
    "        if match:\n",
    "            map_file_indices.append(match.group(1))\n",
    "\n",
    "    return [int(idx) for idx in map_file_indices]\n",
    "\n",
    "def is_valid_input(map, indices, algorithm, solvers):\n",
    "    valid_input = True\n",
    "    if map not in indices:\n",
    "        print(f\"Map index out of range. Please choose within range {min(indices)} to {max(indices)}\")\n",
    "        valid_input = False\n",
    "    if algorithm not in solvers.keys():    \n",
    "        print(f\"{algorithm} is not a defined algorithm. Please choose from\", *[f\"{solver} ({i+1})  \" for i, solver in enumerate(solvers.keys())])\n",
    "        valid_input = False\n",
    "    return valid_input\n",
    "\n",
    "def load_map(map_index):  \n",
    "    file_name = \"map\" + str(map_index) + \".txt\"\n",
    "    with open('./assets/maps/' + file_name) as f:\n",
    "        game_map = f.read()\n",
    "    return game_map\n",
    "\n",
    "map_file_indices = extract_map_files(\"./assets/maps/\")"
   ]
  },
  {
   "cell_type": "markdown",
   "metadata": {},
   "source": [
    "## Tutorial"
   ]
  },
  {
   "cell_type": "code",
   "execution_count": 34,
   "metadata": {},
   "outputs": [
    {
     "name": "stdout",
     "output_type": "stream",
     "text": [
      "This is an example of the game map:\n",
      "W\tP1\tH\tW\tW\tW\tW\n",
      "W\tW\tW\tG1\tW\tW\tW\n",
      "W\tW\tW\tB1\tW\tW\tW\n",
      "W\tG2\tB2\t.\tP1\tW\tW\n",
      "W\tW\tW\tB3\tW\tW\tW\n",
      "W\tW\tW\tG3\tW\tW\tW\n",
      "W\tW\tW\tW\tW\tW\tW\n"
     ]
    }
   ],
   "source": [
    "print(\"This is an example of the game map:\")\n",
    "map = load_map(2)\n",
    "game = Game(map)\n",
    "game.display_map()"
   ]
  },
  {
   "cell_type": "code",
   "execution_count": 11,
   "metadata": {},
   "outputs": [
    {
     "data": {
      "text/plain": [
       "[(2, 3), (3, 2), (4, 3)]"
      ]
     },
     "execution_count": 11,
     "metadata": {},
     "output_type": "execute_result"
    }
   ],
   "source": [
    "game.get_box_locations()"
   ]
  },
  {
   "cell_type": "code",
   "execution_count": 12,
   "metadata": {},
   "outputs": [
    {
     "data": {
      "text/plain": [
       "[(1, 3), (3, 1), (5, 3)]"
      ]
     },
     "execution_count": 12,
     "metadata": {},
     "output_type": "execute_result"
    }
   ],
   "source": [
    "game.get_goal_locations()"
   ]
  },
  {
   "cell_type": "code",
   "execution_count": 13,
   "metadata": {},
   "outputs": [
    {
     "data": {
      "text/plain": [
       "(0, 2)"
      ]
     },
     "execution_count": 13,
     "metadata": {},
     "output_type": "execute_result"
    }
   ],
   "source": [
    "game.get_player_position()"
   ]
  },
  {
   "cell_type": "markdown",
   "metadata": {},
   "source": [
    "- W : Wall\n",
    "- H : Human\n",
    "- B : Box\n",
    "- P : Portal\n",
    "- G : Goal"
   ]
  },
  {
   "cell_type": "code",
   "execution_count": 14,
   "metadata": {},
   "outputs": [
    {
     "name": "stdout",
     "output_type": "stream",
     "text": [
      "Move U is valid: False\n",
      "Move D is valid: False\n",
      "Move R is valid: False\n",
      "Move L is valid: True\n",
      "W\tP1\t.\tW\tW\tW\tW\n",
      "W\tW\tW\tG1\tW\tW\tW\n",
      "W\tW\tW\tB1\tW\tW\tW\n",
      "W\tG2\tB2\tH\tP1\tW\tW\n",
      "W\tW\tW\tB3\tW\tW\tW\n",
      "W\tW\tW\tG3\tW\tW\tW\n",
      "W\tW\tW\tW\tW\tW\tW\n"
     ]
    }
   ],
   "source": [
    "for direction in ['U', 'D', 'R', 'L']:\n",
    "    result = game.apply_move(direction)\n",
    "    print(f\"Move {direction} is valid: {result}\")\n",
    "    if result:\n",
    "        game.display_map()"
   ]
  },
  {
   "cell_type": "code",
   "execution_count": 15,
   "metadata": {},
   "outputs": [
    {
     "name": "stdout",
     "output_type": "stream",
     "text": [
      "W\tP1\t.\tW\tW\tW\tW\n",
      "W\tW\tW\tG1/B1\tW\tW\tW\n",
      "W\tW\tW\tH\tW\tW\tW\n",
      "W\tG2\tB2\t.\tP1\tW\tW\n",
      "W\tW\tW\tB3\tW\tW\tW\n",
      "W\tW\tW\tG3\tW\tW\tW\n",
      "W\tW\tW\tW\tW\tW\tW\n"
     ]
    }
   ],
   "source": [
    "game.apply_move('U')\n",
    "game.display_map()"
   ]
  },
  {
   "cell_type": "code",
   "execution_count": 31,
   "metadata": {},
   "outputs": [
    {
     "name": "stdout",
     "output_type": "stream",
     "text": [
      "W\tW\tW\tW\tW\tW\n",
      "W\t.\tH\tB1\tP1\tW\n",
      "W\tW\tW\t.\t.\tW\n",
      "W\tG1\tB2\tP1\tW\tW\n",
      "W\t.\t.\tG2\t.\tW\n",
      "W\tW\tW\tW\tW\tW\n",
      "Is game won? False\n"
     ]
    }
   ],
   "source": [
    "game.apply_moves(['D', 'L', 'R', 'D']) \n",
    "game.display_map()\n",
    "print(\"Is game won?\", game.is_game_won())"
   ]
  },
  {
   "cell_type": "markdown",
   "metadata": {},
   "source": [
    "## Solvers"
   ]
  },
  {
   "cell_type": "markdown",
   "metadata": {},
   "source": [
    "### BFS"
   ]
  },
  {
   "cell_type": "code",
   "execution_count": null,
   "metadata": {},
   "outputs": [],
   "source": [
    "# TODO: Must return moves (if there is no solution return None), number of visited states\n",
    "def solver_bfs(game_map):\n",
    "    game = Game(game_map)\n",
    "    return None, 0"
   ]
  },
  {
   "cell_type": "markdown",
   "metadata": {},
   "source": [
    "### DFS"
   ]
  },
  {
   "cell_type": "code",
   "execution_count": 18,
   "metadata": {},
   "outputs": [],
   "source": [
    "# TODO: Must return moves, number of visited states\n",
    "def solver_dfs(game_map):\n",
    "    game = Game(game_map)\n",
    "    return None, 0"
   ]
  },
  {
   "cell_type": "markdown",
   "metadata": {},
   "source": [
    "### IDS"
   ]
  },
  {
   "cell_type": "code",
   "execution_count": null,
   "metadata": {},
   "outputs": [],
   "source": [
    "# TODO: Must return moves, number of visited states\n",
    "def solver_ids(game_map):\n",
    "    game = Game(game_map)\n",
    "    return None, 0"
   ]
  },
  {
   "cell_type": "markdown",
   "metadata": {},
   "source": [
    "### A*"
   ]
  },
  {
   "cell_type": "code",
   "execution_count": 20,
   "metadata": {},
   "outputs": [],
   "source": [
    "# TODO\n",
    "def heuristic(game_map):\n",
    "    return 0\n",
    "\n",
    "# TODO: Must return moves, number of visited states\n",
    "def solver_astar(game_map, heuristic_func=heuristic, weight=1):\n",
    "    game = Game(game_map)\n",
    "    return None, 0"
   ]
  },
  {
   "cell_type": "markdown",
   "metadata": {},
   "source": [
    "## Solve"
   ]
  },
  {
   "cell_type": "code",
   "execution_count": 21,
   "metadata": {},
   "outputs": [],
   "source": [
    "SOLVERS = {\n",
    "    \"BFS\": solver_bfs,\n",
    "    \"DFS\": solver_dfs,\n",
    "    \"IDS\": solver_ids,\n",
    "    \"A*\": solver_astar\n",
    "}"
   ]
  },
  {
   "cell_type": "code",
   "execution_count": 22,
   "metadata": {},
   "outputs": [],
   "source": [
    "def solve(map, method):  \n",
    "    \n",
    "    if not is_valid_input(map, map_file_indices, method, SOLVERS):\n",
    "        return\n",
    "    \n",
    "    file_name = \"map\" + str(map) + \".txt\"\n",
    "    with open('./assets/maps/' + file_name) as f:\n",
    "        game_map = f.read()\n",
    "    \n",
    "    start_time = time.time()\n",
    "    moves, numof_visited_states = SOLVERS[method](game_map)\n",
    "    end_time = time.time()\n",
    "    print(f\"{method} took {round(end_time - start_time, 2)} seconds on map {map} and visited {numof_visited_states} states.\")\n",
    "    \n",
    "    if moves is None:\n",
    "        print(\"No Solution Found!\")\n",
    "    else:\n",
    "        print(f\"{len(moves)} moves were used: {moves}\")\n",
    "            "
   ]
  },
  {
   "cell_type": "code",
   "execution_count": 23,
   "metadata": {},
   "outputs": [
    {
     "name": "stdout",
     "output_type": "stream",
     "text": [
      "BFS took 0.0 seconds on map 1 and visited 0 states.\n",
      "No Solution Found!\n"
     ]
    }
   ],
   "source": [
    "solve(1, \"BFS\") # Solve map 1 using BFS"
   ]
  },
  {
   "cell_type": "code",
   "execution_count": 24,
   "metadata": {},
   "outputs": [],
   "source": [
    "def solve_all():\n",
    "    for map in range(min(map_file_indices), max(map_file_indices) + 1):\n",
    "        for method in SOLVERS.keys():\n",
    "            solve(map, method)\n",
    "            "
   ]
  },
  {
   "cell_type": "code",
   "execution_count": 25,
   "metadata": {},
   "outputs": [
    {
     "name": "stdout",
     "output_type": "stream",
     "text": [
      "BFS took 0.0 seconds on map 1 and visited 0 states.\n",
      "No Solution Found!\n",
      "DFS took 0.0 seconds on map 1 and visited 0 states.\n",
      "No Solution Found!\n",
      "IDS took 0.0 seconds on map 1 and visited 0 states.\n",
      "No Solution Found!\n",
      "A* took 0.0 seconds on map 1 and visited 0 states.\n",
      "No Solution Found!\n",
      "BFS took 0.0 seconds on map 2 and visited 0 states.\n",
      "No Solution Found!\n",
      "DFS took 0.0 seconds on map 2 and visited 0 states.\n",
      "No Solution Found!\n",
      "IDS took 0.0 seconds on map 2 and visited 0 states.\n",
      "No Solution Found!\n",
      "A* took 0.0 seconds on map 2 and visited 0 states.\n",
      "No Solution Found!\n",
      "BFS took 0.0 seconds on map 3 and visited 0 states.\n",
      "No Solution Found!\n",
      "DFS took 0.0 seconds on map 3 and visited 0 states.\n",
      "No Solution Found!\n",
      "IDS took 0.0 seconds on map 3 and visited 0 states.\n",
      "No Solution Found!\n",
      "A* took 0.0 seconds on map 3 and visited 0 states.\n",
      "No Solution Found!\n",
      "BFS took 0.0 seconds on map 4 and visited 0 states.\n",
      "No Solution Found!\n",
      "DFS took 0.0 seconds on map 4 and visited 0 states.\n",
      "No Solution Found!\n",
      "IDS took 0.0 seconds on map 4 and visited 0 states.\n",
      "No Solution Found!\n",
      "A* took 0.0 seconds on map 4 and visited 0 states.\n",
      "No Solution Found!\n",
      "BFS took 0.0 seconds on map 5 and visited 0 states.\n",
      "No Solution Found!\n",
      "DFS took 0.0 seconds on map 5 and visited 0 states.\n",
      "No Solution Found!\n",
      "IDS took 0.0 seconds on map 5 and visited 0 states.\n",
      "No Solution Found!\n",
      "A* took 0.0 seconds on map 5 and visited 0 states.\n",
      "No Solution Found!\n",
      "BFS took 0.0 seconds on map 6 and visited 0 states.\n",
      "No Solution Found!\n",
      "DFS took 0.0 seconds on map 6 and visited 0 states.\n",
      "No Solution Found!\n",
      "IDS took 0.0 seconds on map 6 and visited 0 states.\n",
      "No Solution Found!\n",
      "A* took 0.0 seconds on map 6 and visited 0 states.\n",
      "No Solution Found!\n",
      "BFS took 0.0 seconds on map 7 and visited 0 states.\n",
      "No Solution Found!\n",
      "DFS took 0.0 seconds on map 7 and visited 0 states.\n",
      "No Solution Found!\n",
      "IDS took 0.0 seconds on map 7 and visited 0 states.\n",
      "No Solution Found!\n",
      "A* took 0.0 seconds on map 7 and visited 0 states.\n",
      "No Solution Found!\n",
      "BFS took 0.0 seconds on map 8 and visited 0 states.\n",
      "No Solution Found!\n",
      "DFS took 0.0 seconds on map 8 and visited 0 states.\n",
      "No Solution Found!\n",
      "IDS took 0.0 seconds on map 8 and visited 0 states.\n",
      "No Solution Found!\n",
      "A* took 0.0 seconds on map 8 and visited 0 states.\n",
      "No Solution Found!\n",
      "BFS took 0.0 seconds on map 9 and visited 0 states.\n",
      "No Solution Found!\n",
      "DFS took 0.0 seconds on map 9 and visited 0 states.\n",
      "No Solution Found!\n",
      "IDS took 0.0 seconds on map 9 and visited 0 states.\n",
      "No Solution Found!\n",
      "A* took 0.0 seconds on map 9 and visited 0 states.\n",
      "No Solution Found!\n",
      "BFS took 0.0 seconds on map 10 and visited 0 states.\n",
      "No Solution Found!\n",
      "DFS took 0.0 seconds on map 10 and visited 0 states.\n",
      "No Solution Found!\n",
      "IDS took 0.0 seconds on map 10 and visited 0 states.\n",
      "No Solution Found!\n",
      "A* took 0.0 seconds on map 10 and visited 0 states.\n",
      "No Solution Found!\n"
     ]
    }
   ],
   "source": [
    "solve_all() # Solve all maps using all methods"
   ]
  }
 ],
 "metadata": {
  "kernelspec": {
   "display_name": "Python 3",
   "language": "python",
   "name": "python3"
  },
  "language_info": {
   "codemirror_mode": {
    "name": "ipython",
    "version": 3
   },
   "file_extension": ".py",
   "mimetype": "text/x-python",
   "name": "python",
   "nbconvert_exporter": "python",
   "pygments_lexer": "ipython3",
   "version": "3.12.0"
  }
 },
 "nbformat": 4,
 "nbformat_minor": 2
}
